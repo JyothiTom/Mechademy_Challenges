{
 "cells": [
  {
   "cell_type": "markdown",
   "metadata": {},
   "source": [
    "# Libraries"
   ]
  },
  {
   "cell_type": "code",
   "execution_count": 1,
   "metadata": {},
   "outputs": [],
   "source": [
    "import pandas as pd\n",
    "import numpy as np\n",
    "import matplotlib.pyplot as plt\n",
    "import seaborn as sns\n",
    "from scipy import stats"
   ]
  },
  {
   "cell_type": "markdown",
   "metadata": {},
   "source": [
    "# Data"
   ]
  },
  {
   "cell_type": "code",
   "execution_count": 2,
   "metadata": {},
   "outputs": [
    {
     "data": {
      "text/html": [
       "<div>\n",
       "<style scoped>\n",
       "    .dataframe tbody tr th:only-of-type {\n",
       "        vertical-align: middle;\n",
       "    }\n",
       "\n",
       "    .dataframe tbody tr th {\n",
       "        vertical-align: top;\n",
       "    }\n",
       "\n",
       "    .dataframe thead th {\n",
       "        text-align: right;\n",
       "    }\n",
       "</style>\n",
       "<table border=\"1\" class=\"dataframe\">\n",
       "  <thead>\n",
       "    <tr style=\"text-align: right;\">\n",
       "      <th></th>\n",
       "      <th>make</th>\n",
       "      <th>model</th>\n",
       "      <th>priceUSD</th>\n",
       "      <th>year</th>\n",
       "      <th>condition</th>\n",
       "      <th>mileage(kilometers)</th>\n",
       "      <th>fuel_type</th>\n",
       "      <th>volume(cm3)</th>\n",
       "      <th>color</th>\n",
       "      <th>transmission</th>\n",
       "      <th>drive_unit</th>\n",
       "      <th>segment</th>\n",
       "    </tr>\n",
       "    <tr>\n",
       "      <th>S.No.</th>\n",
       "      <th></th>\n",
       "      <th></th>\n",
       "      <th></th>\n",
       "      <th></th>\n",
       "      <th></th>\n",
       "      <th></th>\n",
       "      <th></th>\n",
       "      <th></th>\n",
       "      <th></th>\n",
       "      <th></th>\n",
       "      <th></th>\n",
       "      <th></th>\n",
       "    </tr>\n",
       "  </thead>\n",
       "  <tbody>\n",
       "    <tr>\n",
       "      <th>0</th>\n",
       "      <td>honda</td>\n",
       "      <td>accord</td>\n",
       "      <td>565</td>\n",
       "      <td>1993</td>\n",
       "      <td>with mileage</td>\n",
       "      <td>960015.0</td>\n",
       "      <td>petrol</td>\n",
       "      <td>2000.0</td>\n",
       "      <td>black</td>\n",
       "      <td>mechanics</td>\n",
       "      <td>front-wheel drive</td>\n",
       "      <td>D</td>\n",
       "    </tr>\n",
       "    <tr>\n",
       "      <th>1</th>\n",
       "      <td>ford</td>\n",
       "      <td>fusion</td>\n",
       "      <td>5550</td>\n",
       "      <td>2008</td>\n",
       "      <td>with mileage</td>\n",
       "      <td>172000.0</td>\n",
       "      <td>diesel</td>\n",
       "      <td>1400.0</td>\n",
       "      <td>silver</td>\n",
       "      <td>mechanics</td>\n",
       "      <td>front-wheel drive</td>\n",
       "      <td>M</td>\n",
       "    </tr>\n",
       "    <tr>\n",
       "      <th>2</th>\n",
       "      <td>nissan</td>\n",
       "      <td>teana</td>\n",
       "      <td>8300</td>\n",
       "      <td>2008</td>\n",
       "      <td>with mileage</td>\n",
       "      <td>223000.0</td>\n",
       "      <td>petrol</td>\n",
       "      <td>2500.0</td>\n",
       "      <td>purple</td>\n",
       "      <td>auto</td>\n",
       "      <td>front-wheel drive</td>\n",
       "      <td>D</td>\n",
       "    </tr>\n",
       "    <tr>\n",
       "      <th>3</th>\n",
       "      <td>volkswagen</td>\n",
       "      <td>fox</td>\n",
       "      <td>3300</td>\n",
       "      <td>2005</td>\n",
       "      <td>with mileage</td>\n",
       "      <td>140000.0</td>\n",
       "      <td>petrol</td>\n",
       "      <td>1200.0</td>\n",
       "      <td>blue</td>\n",
       "      <td>mechanics</td>\n",
       "      <td>front-wheel drive</td>\n",
       "      <td>A</td>\n",
       "    </tr>\n",
       "    <tr>\n",
       "      <th>4</th>\n",
       "      <td>nissan</td>\n",
       "      <td>primera</td>\n",
       "      <td>2450</td>\n",
       "      <td>2002</td>\n",
       "      <td>with damage</td>\n",
       "      <td>413000.0</td>\n",
       "      <td>diesel</td>\n",
       "      <td>2200.0</td>\n",
       "      <td>burgundy</td>\n",
       "      <td>mechanics</td>\n",
       "      <td>front-wheel drive</td>\n",
       "      <td>D</td>\n",
       "    </tr>\n",
       "  </tbody>\n",
       "</table>\n",
       "</div>"
      ],
      "text/plain": [
       "             make    model  priceUSD  year     condition  mileage(kilometers)  \\\n",
       "S.No.                                                                           \n",
       "0           honda   accord       565  1993  with mileage             960015.0   \n",
       "1            ford   fusion      5550  2008  with mileage             172000.0   \n",
       "2          nissan    teana      8300  2008  with mileage             223000.0   \n",
       "3      volkswagen      fox      3300  2005  with mileage             140000.0   \n",
       "4          nissan  primera      2450  2002   with damage             413000.0   \n",
       "\n",
       "      fuel_type  volume(cm3)     color transmission         drive_unit segment  \n",
       "S.No.                                                                           \n",
       "0        petrol       2000.0     black    mechanics  front-wheel drive       D  \n",
       "1        diesel       1400.0    silver    mechanics  front-wheel drive       M  \n",
       "2        petrol       2500.0    purple         auto  front-wheel drive       D  \n",
       "3        petrol       1200.0      blue    mechanics  front-wheel drive       A  \n",
       "4        diesel       2200.0  burgundy    mechanics  front-wheel drive       D  "
      ]
     },
     "execution_count": 2,
     "metadata": {},
     "output_type": "execute_result"
    }
   ],
   "source": [
    "cars_prices = pd.read_csv(\"C:\\\\Users\\\\jyoth\\\\OneDrive\\\\Desktop\\\\Internshala\\\\Mechademy\\\\cars_price.csv\", index_col=\"S.No.\")\n",
    "cars_prices.head()"
   ]
  },
  {
   "cell_type": "code",
   "execution_count": 3,
   "metadata": {},
   "outputs": [
    {
     "data": {
      "text/plain": [
       "(40000, 12)"
      ]
     },
     "execution_count": 3,
     "metadata": {},
     "output_type": "execute_result"
    }
   ],
   "source": [
    "cars_prices.shape"
   ]
  },
  {
   "cell_type": "code",
   "execution_count": 4,
   "metadata": {
    "scrolled": true
   },
   "outputs": [
    {
     "data": {
      "text/plain": [
       "make                      0\n",
       "model                     0\n",
       "priceUSD                  0\n",
       "year                      0\n",
       "condition                 0\n",
       "mileage(kilometers)       0\n",
       "fuel_type                 0\n",
       "volume(cm3)              30\n",
       "color                     0\n",
       "transmission              0\n",
       "drive_unit             1345\n",
       "segment                3755\n",
       "dtype: int64"
      ]
     },
     "execution_count": 4,
     "metadata": {},
     "output_type": "execute_result"
    }
   ],
   "source": [
    "cars_prices.isna().sum()"
   ]
  },
  {
   "cell_type": "code",
   "execution_count": 5,
   "metadata": {},
   "outputs": [
    {
     "data": {
      "text/plain": [
       "make                   0.000000\n",
       "model                  0.000000\n",
       "priceUSD               0.000000\n",
       "year                   0.000000\n",
       "condition              0.000000\n",
       "mileage(kilometers)    0.000000\n",
       "fuel_type              0.000000\n",
       "volume(cm3)            0.000750\n",
       "color                  0.000000\n",
       "transmission           0.000000\n",
       "drive_unit             0.033625\n",
       "segment                0.093875\n",
       "dtype: float64"
      ]
     },
     "execution_count": 5,
     "metadata": {},
     "output_type": "execute_result"
    }
   ],
   "source": [
    "cars_prices.isna().sum()/cars_prices.shape[0]"
   ]
  },
  {
   "cell_type": "markdown",
   "metadata": {},
   "source": [
    "Since the null values make up only a small percentage of the data records, they are dropped."
   ]
  },
  {
   "cell_type": "code",
   "execution_count": 6,
   "metadata": {},
   "outputs": [],
   "source": [
    "cars_prices.dropna(inplace=True)"
   ]
  },
  {
   "cell_type": "code",
   "execution_count": 7,
   "metadata": {},
   "outputs": [
    {
     "data": {
      "text/plain": [
       "(35016, 12)"
      ]
     },
     "execution_count": 7,
     "metadata": {},
     "output_type": "execute_result"
    }
   ],
   "source": [
    "cars_prices.shape"
   ]
  },
  {
   "cell_type": "code",
   "execution_count": 8,
   "metadata": {},
   "outputs": [
    {
     "data": {
      "text/plain": [
       "<matplotlib.axes._subplots.AxesSubplot at 0x1a33067ae80>"
      ]
     },
     "execution_count": 8,
     "metadata": {},
     "output_type": "execute_result"
    },
    {
     "data": {
      "image/png": "[encoded data removed]",
      "text/plain": [
       "<Figure size 432x288 with 1 Axes>"
      ]
     },
     "metadata": {
      "needs_background": "light"
     },
     "output_type": "display_data"
    }
   ],
   "source": [
    "sns.distplot(cars_prices.priceUSD)"
   ]
  },
  {
   "cell_type": "markdown",
   "metadata": {},
   "source": [
    "From the above plot, we see that the distribution of the car prices is right skewed. This means that a large proportion of the cars are sold at a price in the lower range. Only a few of the cars in the dataset are luxury cars."
   ]
  },
  {
   "cell_type": "code",
   "execution_count": 9,
   "metadata": {},
   "outputs": [
    {
     "data": {
      "text/html": [
       "<div>\n",
       "<style scoped>\n",
       "    .dataframe tbody tr th:only-of-type {\n",
       "        vertical-align: middle;\n",
       "    }\n",
       "\n",
       "    .dataframe tbody tr th {\n",
       "        vertical-align: top;\n",
       "    }\n",
       "\n",
       "    .dataframe thead th {\n",
       "        text-align: right;\n",
       "    }\n",
       "</style>\n",
       "<table border=\"1\" class=\"dataframe\">\n",
       "  <thead>\n",
       "    <tr style=\"text-align: right;\">\n",
       "      <th></th>\n",
       "      <th>priceUSD</th>\n",
       "      <th>year</th>\n",
       "      <th>mileage(kilometers)</th>\n",
       "      <th>volume(cm3)</th>\n",
       "    </tr>\n",
       "  </thead>\n",
       "  <tbody>\n",
       "    <tr>\n",
       "      <th>priceUSD</th>\n",
       "      <td>1.000000</td>\n",
       "      <td>0.643067</td>\n",
       "      <td>-0.179098</td>\n",
       "      <td>0.268773</td>\n",
       "    </tr>\n",
       "    <tr>\n",
       "      <th>year</th>\n",
       "      <td>0.643067</td>\n",
       "      <td>1.000000</td>\n",
       "      <td>-0.245647</td>\n",
       "      <td>0.028499</td>\n",
       "    </tr>\n",
       "    <tr>\n",
       "      <th>mileage(kilometers)</th>\n",
       "      <td>-0.179098</td>\n",
       "      <td>-0.245647</td>\n",
       "      <td>1.000000</td>\n",
       "      <td>0.019253</td>\n",
       "    </tr>\n",
       "    <tr>\n",
       "      <th>volume(cm3)</th>\n",
       "      <td>0.268773</td>\n",
       "      <td>0.028499</td>\n",
       "      <td>0.019253</td>\n",
       "      <td>1.000000</td>\n",
       "    </tr>\n",
       "  </tbody>\n",
       "</table>\n",
       "</div>"
      ],
      "text/plain": [
       "                     priceUSD      year  mileage(kilometers)  volume(cm3)\n",
       "priceUSD             1.000000  0.643067            -0.179098     0.268773\n",
       "year                 0.643067  1.000000            -0.245647     0.028499\n",
       "mileage(kilometers) -0.179098 -0.245647             1.000000     0.019253\n",
       "volume(cm3)          0.268773  0.028499             0.019253     1.000000"
      ]
     },
     "execution_count": 9,
     "metadata": {},
     "output_type": "execute_result"
    }
   ],
   "source": [
    "cars_prices.corr()"
   ]
  },
  {
   "cell_type": "code",
   "execution_count": 10,
   "metadata": {},
   "outputs": [
    {
     "data": {
      "text/plain": [
       "<matplotlib.axes._subplots.AxesSubplot at 0x1a33137b220>"
      ]
     },
     "execution_count": 10,
     "metadata": {},
     "output_type": "execute_result"
    },
    {
     "data": {
      "image/png": "[encoded data removed]",
      "text/plain": [
       "<Figure size 432x288 with 1 Axes>"
      ]
     },
     "metadata": {
      "needs_background": "light"
     },
     "output_type": "display_data"
    }
   ],
   "source": [
    "sns.scatterplot(data=cars_prices, x='mileage(kilometers)', y='priceUSD')"
   ]
  },
  {
   "cell_type": "code",
   "execution_count": 11,
   "metadata": {},
   "outputs": [
    {
     "name": "stdout",
     "output_type": "stream",
     "text": [
      "Max:  9999999.0\n",
      "Min:  0.0\n"
     ]
    }
   ],
   "source": [
    "#Range of Mileage values\n",
    "print(\"Max: \", cars_prices['mileage(kilometers)'].max())\n",
    "print(\"Min: \", cars_prices['mileage(kilometers)'].min())"
   ]
  },
  {
   "cell_type": "code",
   "execution_count": 12,
   "metadata": {},
   "outputs": [
    {
     "data": {
      "text/plain": [
       "(327, 12)"
      ]
     },
     "execution_count": 12,
     "metadata": {},
     "output_type": "execute_result"
    }
   ],
   "source": [
    "cars_prices[cars_prices['mileage(kilometers)']<50].shape"
   ]
  },
  {
   "cell_type": "code",
   "execution_count": 13,
   "metadata": {},
   "outputs": [
    {
     "name": "stdout",
     "output_type": "stream",
     "text": [
      "Max:  20000.0\n",
      "Min:  500.0\n"
     ]
    }
   ],
   "source": [
    "#Range of Volume values\n",
    "print(\"Max: \", cars_prices[\"volume(cm3)\"].max())\n",
    "print(\"Min: \", cars_prices[\"volume(cm3)\"].min())"
   ]
  },
  {
   "cell_type": "code",
   "execution_count": 14,
   "metadata": {},
   "outputs": [
    {
     "data": {
      "text/plain": [
       "(30914, 12)"
      ]
     },
     "execution_count": 14,
     "metadata": {},
     "output_type": "execute_result"
    }
   ],
   "source": [
    "cars_prices[cars_prices['volume(cm3)']<3000].shape"
   ]
  },
  {
   "cell_type": "markdown",
   "metadata": {},
   "source": [
    "Using domain knowledge, the values of Mileage and Volume are absurd. Hence, the dataset was subsetted to only accomodate records that have normal values."
   ]
  },
  {
   "cell_type": "markdown",
   "metadata": {},
   "source": [
    "# Subsetting the dataset"
   ]
  },
  {
   "cell_type": "code",
   "execution_count": 15,
   "metadata": {},
   "outputs": [],
   "source": [
    "subdf = cars_prices[(cars_prices['mileage(kilometers)']<50) & (cars_prices['volume(cm3)']<5000)]"
   ]
  },
  {
   "cell_type": "code",
   "execution_count": 16,
   "metadata": {},
   "outputs": [
    {
     "data": {
      "text/plain": [
       "(322, 12)"
      ]
     },
     "execution_count": 16,
     "metadata": {},
     "output_type": "execute_result"
    }
   ],
   "source": [
    "subdf.shape"
   ]
  },
  {
   "cell_type": "code",
   "execution_count": 17,
   "metadata": {},
   "outputs": [
    {
     "data": {
      "text/plain": [
       "Index(['make', 'model', 'priceUSD', 'year', 'condition', 'mileage(kilometers)',\n",
       "       'fuel_type', 'volume(cm3)', 'color', 'transmission', 'drive_unit',\n",
       "       'segment'],\n",
       "      dtype='object')"
      ]
     },
     "execution_count": 17,
     "metadata": {},
     "output_type": "execute_result"
    }
   ],
   "source": [
    "subdf.columns"
   ]
  },
  {
   "cell_type": "code",
   "execution_count": 18,
   "metadata": {},
   "outputs": [
    {
     "data": {
      "text/html": [
       "<div>\n",
       "<style scoped>\n",
       "    .dataframe tbody tr th:only-of-type {\n",
       "        vertical-align: middle;\n",
       "    }\n",
       "\n",
       "    .dataframe tbody tr th {\n",
       "        vertical-align: top;\n",
       "    }\n",
       "\n",
       "    .dataframe thead th {\n",
       "        text-align: right;\n",
       "    }\n",
       "</style>\n",
       "<table border=\"1\" class=\"dataframe\">\n",
       "  <thead>\n",
       "    <tr style=\"text-align: right;\">\n",
       "      <th></th>\n",
       "      <th>make</th>\n",
       "      <th>model</th>\n",
       "      <th>priceUSD</th>\n",
       "      <th>year</th>\n",
       "      <th>condition</th>\n",
       "      <th>mileage(kilometers)</th>\n",
       "      <th>fuel_type</th>\n",
       "      <th>volume(cm3)</th>\n",
       "      <th>color</th>\n",
       "      <th>transmission</th>\n",
       "      <th>drive_unit</th>\n",
       "      <th>segment</th>\n",
       "    </tr>\n",
       "    <tr>\n",
       "      <th>S.No.</th>\n",
       "      <th></th>\n",
       "      <th></th>\n",
       "      <th></th>\n",
       "      <th></th>\n",
       "      <th></th>\n",
       "      <th></th>\n",
       "      <th></th>\n",
       "      <th></th>\n",
       "      <th></th>\n",
       "      <th></th>\n",
       "      <th></th>\n",
       "      <th></th>\n",
       "    </tr>\n",
       "  </thead>\n",
       "  <tbody>\n",
       "    <tr>\n",
       "      <th>229</th>\n",
       "      <td>opel</td>\n",
       "      <td>zafira</td>\n",
       "      <td>4450</td>\n",
       "      <td>2002</td>\n",
       "      <td>with mileage</td>\n",
       "      <td>0.0</td>\n",
       "      <td>diesel</td>\n",
       "      <td>2000.0</td>\n",
       "      <td>black</td>\n",
       "      <td>mechanics</td>\n",
       "      <td>front-wheel drive</td>\n",
       "      <td>M</td>\n",
       "    </tr>\n",
       "    <tr>\n",
       "      <th>342</th>\n",
       "      <td>volkswagen</td>\n",
       "      <td>golf</td>\n",
       "      <td>238</td>\n",
       "      <td>1987</td>\n",
       "      <td>for parts</td>\n",
       "      <td>1.0</td>\n",
       "      <td>petrol</td>\n",
       "      <td>1600.0</td>\n",
       "      <td>white</td>\n",
       "      <td>mechanics</td>\n",
       "      <td>front-wheel drive</td>\n",
       "      <td>C</td>\n",
       "    </tr>\n",
       "    <tr>\n",
       "      <th>402</th>\n",
       "      <td>renault</td>\n",
       "      <td>laguna</td>\n",
       "      <td>800</td>\n",
       "      <td>1995</td>\n",
       "      <td>with mileage</td>\n",
       "      <td>0.0</td>\n",
       "      <td>petrol</td>\n",
       "      <td>1800.0</td>\n",
       "      <td>gray</td>\n",
       "      <td>mechanics</td>\n",
       "      <td>front-wheel drive</td>\n",
       "      <td>D</td>\n",
       "    </tr>\n",
       "    <tr>\n",
       "      <th>766</th>\n",
       "      <td>bmw</td>\n",
       "      <td>6-seriya</td>\n",
       "      <td>78649</td>\n",
       "      <td>2019</td>\n",
       "      <td>with mileage</td>\n",
       "      <td>10.0</td>\n",
       "      <td>diesel</td>\n",
       "      <td>2993.0</td>\n",
       "      <td>black</td>\n",
       "      <td>auto</td>\n",
       "      <td>all-wheel drive</td>\n",
       "      <td>S</td>\n",
       "    </tr>\n",
       "    <tr>\n",
       "      <th>822</th>\n",
       "      <td>mitsubishi</td>\n",
       "      <td>space-wagon</td>\n",
       "      <td>500</td>\n",
       "      <td>1992</td>\n",
       "      <td>for parts</td>\n",
       "      <td>0.0</td>\n",
       "      <td>diesel</td>\n",
       "      <td>1800.0</td>\n",
       "      <td>burgundy</td>\n",
       "      <td>mechanics</td>\n",
       "      <td>front-wheel drive</td>\n",
       "      <td>M</td>\n",
       "    </tr>\n",
       "  </tbody>\n",
       "</table>\n",
       "</div>"
      ],
      "text/plain": [
       "             make        model  priceUSD  year     condition  \\\n",
       "S.No.                                                          \n",
       "229          opel       zafira      4450  2002  with mileage   \n",
       "342    volkswagen         golf       238  1987     for parts   \n",
       "402       renault       laguna       800  1995  with mileage   \n",
       "766           bmw     6-seriya     78649  2019  with mileage   \n",
       "822    mitsubishi  space-wagon       500  1992     for parts   \n",
       "\n",
       "       mileage(kilometers) fuel_type  volume(cm3)     color transmission  \\\n",
       "S.No.                                                                      \n",
       "229                    0.0    diesel       2000.0     black    mechanics   \n",
       "342                    1.0    petrol       1600.0     white    mechanics   \n",
       "402                    0.0    petrol       1800.0      gray    mechanics   \n",
       "766                   10.0    diesel       2993.0     black         auto   \n",
       "822                    0.0    diesel       1800.0  burgundy    mechanics   \n",
       "\n",
       "              drive_unit segment  \n",
       "S.No.                             \n",
       "229    front-wheel drive       M  \n",
       "342    front-wheel drive       C  \n",
       "402    front-wheel drive       D  \n",
       "766      all-wheel drive       S  \n",
       "822    front-wheel drive       M  "
      ]
     },
     "execution_count": 18,
     "metadata": {},
     "output_type": "execute_result"
    }
   ],
   "source": [
    "subdf.head()"
   ]
  },
  {
   "cell_type": "code",
   "execution_count": 19,
   "metadata": {},
   "outputs": [
    {
     "data": {
      "text/plain": [
       "<matplotlib.axes._subplots.AxesSubplot at 0x1a331515370>"
      ]
     },
     "execution_count": 19,
     "metadata": {},
     "output_type": "execute_result"
    },
    {
     "data": {
      "image/png": "[encoded data removed]",
      "text/plain": [
       "<Figure size 432x288 with 1 Axes>"
      ]
     },
     "metadata": {
      "needs_background": "light"
     },
     "output_type": "display_data"
    }
   ],
   "source": [
    "sns.distplot(subdf.priceUSD)"
   ]
  },
  {
   "cell_type": "markdown",
   "metadata": {},
   "source": [
    "# Bivariate"
   ]
  },
  {
   "cell_type": "code",
   "execution_count": 20,
   "metadata": {},
   "outputs": [],
   "source": [
    "def scatterplot(df,col):\n",
    "    sns.scatterplot(data=df, x=col, y='priceUSD')\n",
    "    plt.ylabel('priceUSD')\n",
    "    plt.xlabel(col)\n",
    "    plt.title('Boxplot for the column ' + col )\n",
    "    plt.show()"
   ]
  },
  {
   "cell_type": "code",
   "execution_count": 21,
   "metadata": {},
   "outputs": [],
   "source": [
    "def boxplot(df,col):\n",
    "    sns.boxplot(x=col, y='priceUSD',data=df)\n",
    "    plt.ylabel('priceUSD')\n",
    "    plt.xlabel(col)\n",
    "    plt.title('Boxplot for the column ' + col )\n",
    "    plt.show()"
   ]
  },
  {
   "cell_type": "code",
   "execution_count": 22,
   "metadata": {},
   "outputs": [],
   "source": [
    "def kde(df, col):\n",
    "    df.groupby([col])['priceUSD'].plot.kde()\n",
    "    plt.ylabel('Probability')\n",
    "    plt.xlabel('Car Prices (in USD)')\n",
    "    plt.title('KDE Plot for the column ' + col )\n",
    "    plt.legend(labels=df[col].unique().tolist())\n",
    "    plt.show()"
   ]
  },
  {
   "cell_type": "code",
   "execution_count": 23,
   "metadata": {},
   "outputs": [],
   "source": [
    "def cat_bivar(df, col):\n",
    "    print(\"Mean:\")\n",
    "    print(round(df.groupby([col])['priceUSD'].mean(), 2))\n",
    "    print(\"Boxplot:\")\n",
    "    boxplot(df,col)\n",
    "    print(\"KDE Plot:\")\n",
    "    kde(df, col)\n",
    "    print(\"Kruskal-Wallis Test:\")\n",
    "    print(stats.kruskal(*[group[\"priceUSD\"].values for name, group in df.groupby(col)]))    \n",
    "    "
   ]
  },
  {
   "cell_type": "markdown",
   "metadata": {},
   "source": [
    "### Mileage"
   ]
  },
  {
   "cell_type": "code",
   "execution_count": 24,
   "metadata": {},
   "outputs": [
    {
     "data": {
      "image/png": "[encoded data removed]",
      "text/plain": [
       "<Figure size 432x288 with 1 Axes>"
      ]
     },
     "metadata": {
      "needs_background": "light"
     },
     "output_type": "display_data"
    }
   ],
   "source": [
    "scatterplot(subdf, col='mileage(kilometers)')"
   ]
  },
  {
   "cell_type": "code",
   "execution_count": 25,
   "metadata": {},
   "outputs": [
    {
     "name": "stderr",
     "output_type": "stream",
     "text": [
      "<ipython-input-25-0cc6234540a8>:1: SettingWithCopyWarning: \n",
      "A value is trying to be set on a copy of a slice from a DataFrame.\n",
      "Try using .loc[row_indexer,col_indexer] = value instead\n",
      "\n",
      "See the caveats in the documentation: https://pandas.pydata.org/pandas-docs/stable/user_guide/indexing.html#returning-a-view-versus-a-copy\n",
      "  subdf['Mileage_CI'] = pd.cut(subdf['mileage(kilometers)'],bins=7, labels=False)\n"
     ]
    }
   ],
   "source": [
    "subdf['Mileage_CI'] = pd.cut(subdf['mileage(kilometers)'],bins=7, labels=False)"
   ]
  },
  {
   "cell_type": "code",
   "execution_count": 26,
   "metadata": {},
   "outputs": [
    {
     "data": {
      "text/plain": [
       "0    252\n",
       "1     37\n",
       "2     14\n",
       "3      7\n",
       "4      6\n",
       "6      3\n",
       "5      3\n",
       "Name: Mileage_CI, dtype: int64"
      ]
     },
     "execution_count": 26,
     "metadata": {},
     "output_type": "execute_result"
    }
   ],
   "source": [
    "subdf['Mileage_CI'].value_counts()"
   ]
  },
  {
   "cell_type": "code",
   "execution_count": 27,
   "metadata": {},
   "outputs": [
    {
     "name": "stdout",
     "output_type": "stream",
     "text": [
      "Mean:\n",
      "Mileage_CI\n",
      "0     5028.87\n",
      "1    28231.59\n",
      "2    30457.29\n",
      "3    26494.43\n",
      "4     7524.00\n",
      "5     9696.67\n",
      "6    13633.00\n",
      "Name: priceUSD, dtype: float64\n",
      "Boxplot:\n"
     ]
    },
    {
     "data": {
      "image/png": "[encoded data removed]",
      "text/plain": [
       "<Figure size 432x288 with 1 Axes>"
      ]
     },
     "metadata": {
      "needs_background": "light"
     },
     "output_type": "display_data"
    },
    {
     "name": "stdout",
     "output_type": "stream",
     "text": [
      "KDE Plot:\n"
     ]
    },
    {
     "data": {
      "image/png": "[encoded data removed]",
      "text/plain": [
       "<Figure size 432x288 with 1 Axes>"
      ]
     },
     "metadata": {
      "needs_background": "light"
     },
     "output_type": "display_data"
    },
    {
     "name": "stdout",
     "output_type": "stream",
     "text": [
      "Kruskal-Wallis Test:\n",
      "KruskalResult(statistic=52.183697958443275, pvalue=1.7127444414454228e-09)\n"
     ]
    }
   ],
   "source": [
    "cat_bivar(subdf, col=\"Mileage_CI\")"
   ]
  },
  {
   "cell_type": "markdown",
   "metadata": {},
   "source": [
    "To check if the car prices is affected by mileage, various plots were plotted and a Kruskal-Wallis test was conducted to see if the difference between the prices in each mileage CI is significant or not. \n",
    "The null hypothesis of Kruskal- Wallis test is that the sample mean of the car prices in each group (Mileage CI) is 0. \n",
    "Since the p-value is nearly 0, we can conclude that, the car prices are affected by Mileage. The same result can be drawn from the plots as well.\n",
    "\n",
    "*CI - Class interval"
   ]
  },
  {
   "cell_type": "markdown",
   "metadata": {},
   "source": [
    "## Volume (cm3)"
   ]
  },
  {
   "cell_type": "code",
   "execution_count": 29,
   "metadata": {},
   "outputs": [
    {
     "data": {
      "image/png": "[encoded data removed]",
      "text/plain": [
       "<Figure size 432x288 with 1 Axes>"
      ]
     },
     "metadata": {
      "needs_background": "light"
     },
     "output_type": "display_data"
    }
   ],
   "source": [
    "scatterplot(subdf, col='volume(cm3)')"
   ]
  },
  {
   "cell_type": "code",
   "execution_count": 40,
   "metadata": {},
   "outputs": [
    {
     "name": "stderr",
     "output_type": "stream",
     "text": [
      "<ipython-input-40-c8dc9f87c8e2>:1: SettingWithCopyWarning: \n",
      "A value is trying to be set on a copy of a slice from a DataFrame.\n",
      "Try using .loc[row_indexer,col_indexer] = value instead\n",
      "\n",
      "See the caveats in the documentation: https://pandas.pydata.org/pandas-docs/stable/user_guide/indexing.html#returning-a-view-versus-a-copy\n",
      "  subdf['Volume_CI'] = pd.cut(subdf['volume(cm3)'],bins=5, labels=False)\n"
     ]
    }
   ],
   "source": [
    "subdf['Volume_CI'] = pd.cut(subdf['volume(cm3)'],bins=5, labels=False)"
   ]
  },
  {
   "cell_type": "code",
   "execution_count": 41,
   "metadata": {},
   "outputs": [
    {
     "data": {
      "text/plain": [
       "1    205\n",
       "2     55\n",
       "0     55\n",
       "4      4\n",
       "3      3\n",
       "Name: Volume_CI, dtype: int64"
      ]
     },
     "execution_count": 41,
     "metadata": {},
     "output_type": "execute_result"
    }
   ],
   "source": [
    "subdf['Volume_CI'].value_counts()"
   ]
  },
  {
   "cell_type": "code",
   "execution_count": 42,
   "metadata": {},
   "outputs": [
    {
     "name": "stdout",
     "output_type": "stream",
     "text": [
      "Mean:\n",
      "Volume_CI\n",
      "0     6872.84\n",
      "1     8408.43\n",
      "2    14331.87\n",
      "3     5836.67\n",
      "4    32836.00\n",
      "Name: priceUSD, dtype: float64\n",
      "Boxplot:\n"
     ]
    },
    {
     "data": {
      "image/png": "[encoded data removed]",
      "text/plain": [
       "<Figure size 432x288 with 1 Axes>"
      ]
     },
     "metadata": {
      "needs_background": "light"
     },
     "output_type": "display_data"
    },
    {
     "name": "stdout",
     "output_type": "stream",
     "text": [
      "KDE Plot:\n"
     ]
    },
    {
     "data": {
      "image/png": "[encoded data removed]",
      "text/plain": [
       "<Figure size 432x288 with 1 Axes>"
      ]
     },
     "metadata": {
      "needs_background": "light"
     },
     "output_type": "display_data"
    },
    {
     "name": "stdout",
     "output_type": "stream",
     "text": [
      "Kruskal-Wallis Test:\n",
      "KruskalResult(statistic=22.600948655143164, pvalue=0.00015212066509818519)\n"
     ]
    }
   ],
   "source": [
    "cat_bivar(subdf, col=\"Volume_CI\")"
   ]
  },
  {
   "cell_type": "markdown",
   "metadata": {},
   "source": [
    "To check if the car prices is affected by volume, various plots were plotted and a Kruskal-Wallis test was conducted to see if the difference between the prices in each volume CI is significant or not. \n",
    "The null hypothesis of Kruskal- Wallis test is that the sample mean of the car prices in each group (Volume CI) is 0. \n",
    "Since the p-value is 0, we can conclude that the null hypothesis is rejected, i.e. the car prices are affected by Volume. The same inferences can be drawn from the plots as well.\n",
    "\n",
    "*CI - Class interval"
   ]
  },
  {
   "cell_type": "markdown",
   "metadata": {},
   "source": [
    "## Year of manufacture"
   ]
  },
  {
   "cell_type": "code",
   "execution_count": 33,
   "metadata": {},
   "outputs": [
    {
     "data": {
      "image/png": "[encoded data removed]",
      "text/plain": [
       "<Figure size 432x288 with 1 Axes>"
      ]
     },
     "metadata": {
      "needs_background": "light"
     },
     "output_type": "display_data"
    }
   ],
   "source": [
    "scatterplot(subdf,col='year')"
   ]
  },
  {
   "cell_type": "code",
   "execution_count": 37,
   "metadata": {},
   "outputs": [
    {
     "name": "stderr",
     "output_type": "stream",
     "text": [
      "<ipython-input-37-499b08e3d38f>:1: SettingWithCopyWarning: \n",
      "A value is trying to be set on a copy of a slice from a DataFrame.\n",
      "Try using .loc[row_indexer,col_indexer] = value instead\n",
      "\n",
      "See the caveats in the documentation: https://pandas.pydata.org/pandas-docs/stable/user_guide/indexing.html#returning-a-view-versus-a-copy\n",
      "  subdf['Year_CI'] = pd.cut(subdf['year'],bins=5, labels=False)\n"
     ]
    }
   ],
   "source": [
    "subdf['Year_CI'] = pd.cut(subdf['year'],bins=5, labels=False)"
   ]
  },
  {
   "cell_type": "code",
   "execution_count": 38,
   "metadata": {},
   "outputs": [
    {
     "data": {
      "text/plain": [
       "3    138\n",
       "2     97\n",
       "4     69\n",
       "1     12\n",
       "0      6\n",
       "Name: Year_CI, dtype: int64"
      ]
     },
     "execution_count": 38,
     "metadata": {},
     "output_type": "execute_result"
    }
   ],
   "source": [
    "subdf['Year_CI'].value_counts()"
   ]
  },
  {
   "cell_type": "code",
   "execution_count": 39,
   "metadata": {},
   "outputs": [
    {
     "name": "stdout",
     "output_type": "stream",
     "text": [
      "Mean:\n",
      "Year_CI\n",
      "0     2949.67\n",
      "1     1283.92\n",
      "2     1322.93\n",
      "3     2945.57\n",
      "4    35810.48\n",
      "Name: priceUSD, dtype: float64\n",
      "Boxplot:\n"
     ]
    },
    {
     "data": {
      "image/png": "[encoded data removed]",
      "text/plain": [
       "<Figure size 432x288 with 1 Axes>"
      ]
     },
     "metadata": {
      "needs_background": "light"
     },
     "output_type": "display_data"
    },
    {
     "name": "stdout",
     "output_type": "stream",
     "text": [
      "KDE Plot:\n"
     ]
    },
    {
     "data": {
      "image/png": "[encoded data removed]",
      "text/plain": [
       "<Figure size 432x288 with 1 Axes>"
      ]
     },
     "metadata": {
      "needs_background": "light"
     },
     "output_type": "display_data"
    },
    {
     "name": "stdout",
     "output_type": "stream",
     "text": [
      "Kruskal-Wallis Test:\n",
      "KruskalResult(statistic=189.13345951104202, pvalue=8.137627768562358e-40)\n"
     ]
    }
   ],
   "source": [
    "cat_bivar(subdf, col='Year_CI')"
   ]
  },
  {
   "cell_type": "markdown",
   "metadata": {},
   "source": [
    "To check if the car prices is affected by the Year of manufacture, various plots were plotted and a Kruskal-Wallis test was conducted to see if the difference between the prices in each Year CI is significant or not. \n",
    "The null hypothesis of Kruskal- Wallis test is that the sample mean of the car prices in each group (Year CI) is 0. \n",
    "Since the p-value is 0, we can conclude that the null hypothesis is rejected, i.e. the car prices are affected by the Year of manufacture. The same inferences can be drawn from the plots as well.\n",
    "\n",
    "*CI - Class interval"
   ]
  }
 ],
 "metadata": {
  "kernelspec": {
   "display_name": "Python 3",
   "language": "python",
   "name": "python3"
  },
  "language_info": {
   "codemirror_mode": {
    "name": "ipython",
    "version": 3
   },
   "file_extension": ".py",
   "mimetype": "text/x-python",
   "name": "python",
   "nbconvert_exporter": "python",
   "pygments_lexer": "ipython3",
   "version": "3.8.3"
  }
 },
 "nbformat": 4,
 "nbformat_minor": 4
}
